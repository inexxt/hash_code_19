{
 "cells": [
  {
   "cell_type": "code",
   "execution_count": 3,
   "metadata": {},
   "outputs": [],
   "source": [
    "import pandas as pd\n",
    "import numpy as np"
   ]
  },
  {
   "cell_type": "code",
   "execution_count": 39,
   "metadata": {},
   "outputs": [],
   "source": [
    "arr = np.array([[1,2,3,0,0], [1,2,3,4,0], [4,3,5,7,0]])\n",
    "a1 = np.array([2,3,4])\n",
    "a2 = np.array([2])"
   ]
  },
  {
   "cell_type": "code",
   "execution_count": 37,
   "metadata": {},
   "outputs": [],
   "source": [
    "def score_all(array):\n",
    "    score = 0\n",
    "    n_rows = len(array)\n",
    "    for i in range(n_rows-1):\n",
    "        score += score_rows(array[i],array[i+1])\n",
    "    return score\n",
    "\n",
    "def score_rows(arr1, arr2):\n",
    "    c_arr1 = arr1[arr1 != 0]\n",
    "    c_arr2 = arr2[arr2 != 0]\n",
    "    common = np.intersect1d(c_arr1, c_arr2)\n",
    "    if len(common) == 0:\n",
    "        return 0\n",
    "    else:\n",
    "        arr1_diff = np.setdiff1d(c_arr1,common)\n",
    "        arr2_diff = np.setdiff1d(c_arr2,common)\n",
    "        return min(len(common),len(arr1_diff),len(arr2_diff)) "
   ]
  },
  {
   "cell_type": "code",
   "execution_count": 40,
   "metadata": {},
   "outputs": [
    {
     "data": {
      "text/plain": [
       "array([3, 4])"
      ]
     },
     "execution_count": 40,
     "metadata": {},
     "output_type": "execute_result"
    }
   ],
   "source": [
    "np.setdiff1d(a1,a2)"
   ]
  },
  {
   "cell_type": "code",
   "execution_count": 10,
   "metadata": {},
   "outputs": [
    {
     "data": {
      "text/plain": [
       "True"
      ]
     },
     "execution_count": 10,
     "metadata": {},
     "output_type": "execute_result"
    }
   ],
   "source": []
  },
  {
   "cell_type": "code",
   "execution_count": null,
   "metadata": {},
   "outputs": [],
   "source": []
  },
  {
   "cell_type": "code",
   "execution_count": null,
   "metadata": {},
   "outputs": [],
   "source": []
  },
  {
   "cell_type": "code",
   "execution_count": null,
   "metadata": {},
   "outputs": [],
   "source": []
  },
  {
   "cell_type": "code",
   "execution_count": null,
   "metadata": {},
   "outputs": [],
   "source": []
  }
 ],
 "metadata": {
  "kernelspec": {
   "display_name": "Python 3",
   "language": "python",
   "name": "python3"
  },
  "language_info": {
   "codemirror_mode": {
    "name": "ipython",
    "version": 3
   },
   "file_extension": ".py",
   "mimetype": "text/x-python",
   "name": "python",
   "nbconvert_exporter": "python",
   "pygments_lexer": "ipython3",
   "version": "3.7.2"
  }
 },
 "nbformat": 4,
 "nbformat_minor": 2
}
